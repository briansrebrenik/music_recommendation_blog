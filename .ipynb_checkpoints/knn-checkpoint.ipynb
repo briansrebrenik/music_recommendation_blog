{
 "cells": [
  {
   "cell_type": "code",
   "execution_count": 1,
   "metadata": {},
   "outputs": [],
   "source": [
    "import pandas as pd\n",
    "import numpy as np"
   ]
  },
  {
   "cell_type": "markdown",
   "metadata": {},
   "source": [
    "###### Requesting Access Token from Spotify Web API"
   ]
  },
  {
   "cell_type": "code",
   "execution_count": 2,
   "metadata": {},
   "outputs": [
    {
     "data": {
      "text/plain": [
       "'{\"access_token\":\"BQB9B8fh1oEZr1FWcJl7IazdHO3-nfmtJO5eW7sFnxG7U5YI3KZtXGYYzAEjjwRpYmbyLwOhxZQlOk0SWA0\",\"token_type\":\"Bearer\",\"expires_in\":3600,\"scope\":\"\"}'"
      ]
     },
     "execution_count": 2,
     "metadata": {},
     "output_type": "execute_result"
    }
   ],
   "source": [
    "import requests\n",
    "import json\n",
    "client_id = client_id\n",
    "client_secret = client_secret\n",
    "\n",
    "grant_type = 'client_credentials'\n",
    "\n",
    "#Request based on Client Credentials Flow from https://developer.spotify.com/web-api/authorization-guide/\n",
    "\n",
    "#Request body parameter: grant_type Value: Required. Set it to client_credentials\n",
    "body_params = {'grant_type' : grant_type}\n",
    "\n",
    "url='https://accounts.spotify.com/api/token'\n",
    "\n",
    "response=requests.post(url, data=body_params, auth = (client_id, client_secret)) \n",
    "response.text"
   ]
  },
  {
   "cell_type": "code",
   "execution_count": 3,
   "metadata": {},
   "outputs": [],
   "source": [
    "access_token = 'BQAH6d1xkaNObuZWmUKHIs_gzdwDza0ABkhtXOHiPhIsejckDj_Jw__NsRLZhfw_TdzEiDL2YfJhGdsH100'\n",
    "headers = {'Authorization': 'Bearer '+ access_token}"
   ]
  },
  {
   "cell_type": "markdown",
   "metadata": {},
   "source": [
    "###### Getting Hip-Hop Playlist Track ids"
   ]
  },
  {
   "cell_type": "code",
   "execution_count": 4,
   "metadata": {},
   "outputs": [],
   "source": [
    "r = requests.get(\"https://api.spotify.com/v1/playlists/37i9dQZF1DX2RxBh64BHjQ/tracks\", headers=headers)"
   ]
  },
  {
   "cell_type": "code",
   "execution_count": 5,
   "metadata": {},
   "outputs": [],
   "source": [
    "hip_hop_songs = r.json()"
   ]
  },
  {
   "cell_type": "code",
   "execution_count": 6,
   "metadata": {},
   "outputs": [],
   "source": [
    "hip_hop_ids = []\n",
    "for song in hip_hop_songs['items']:\n",
    "    hip_hop_ids.append(song['track']['id'])"
   ]
  },
  {
   "cell_type": "code",
   "execution_count": 7,
   "metadata": {},
   "outputs": [
    {
     "data": {
      "text/plain": [
       "99"
      ]
     },
     "execution_count": 7,
     "metadata": {},
     "output_type": "execute_result"
    }
   ],
   "source": [
    "len(hip_hop_ids)"
   ]
  },
  {
   "cell_type": "markdown",
   "metadata": {},
   "source": [
    "###### Getting Classical Playlist Track ids"
   ]
  },
  {
   "cell_type": "code",
   "execution_count": 8,
   "metadata": {},
   "outputs": [],
   "source": [
    "r = requests.get(\"https://api.spotify.com/v1/playlists/37i9dQZF1DWWEJlAGA9gs0/tracks\", headers=headers)\n",
    "classical_songs = r.json()"
   ]
  },
  {
   "cell_type": "code",
   "execution_count": 9,
   "metadata": {},
   "outputs": [],
   "source": [
    "classical_ids = []\n",
    "for song in classical_songs['items']:\n",
    "    classical_ids.append(song['track']['id'])"
   ]
  },
  {
   "cell_type": "code",
   "execution_count": 10,
   "metadata": {},
   "outputs": [
    {
     "data": {
      "text/plain": [
       "100"
      ]
     },
     "execution_count": 10,
     "metadata": {},
     "output_type": "execute_result"
    }
   ],
   "source": [
    "len(classical_ids)"
   ]
  },
  {
   "cell_type": "markdown",
   "metadata": {},
   "source": [
    "##### Getting Techno Playlist Track ids"
   ]
  },
  {
   "cell_type": "code",
   "execution_count": 11,
   "metadata": {},
   "outputs": [],
   "source": [
    "r = requests.get(\"https://api.spotify.com/v1/playlists/37i9dQZF1DX6J5NfMJS675/tracks\", headers=headers)\n",
    "techno_songs = r.json()"
   ]
  },
  {
   "cell_type": "code",
   "execution_count": 12,
   "metadata": {},
   "outputs": [],
   "source": [
    "techno_ids = []\n",
    "for song in techno_songs['items']:\n",
    "    techno_ids.append(song['track']['id'])"
   ]
  },
  {
   "cell_type": "code",
   "execution_count": 13,
   "metadata": {
    "scrolled": true
   },
   "outputs": [
    {
     "data": {
      "text/plain": [
       "80"
      ]
     },
     "execution_count": 13,
     "metadata": {},
     "output_type": "execute_result"
    }
   ],
   "source": [
    "len(techno_ids)"
   ]
  },
  {
   "cell_type": "markdown",
   "metadata": {},
   "source": [
    "##### Requesting Track Features and inserting into Pandas DataFrame"
   ]
  },
  {
   "cell_type": "code",
   "execution_count": 14,
   "metadata": {},
   "outputs": [],
   "source": [
    "hip_hop_ids_test = \",\".join(hip_hop_ids)"
   ]
  },
  {
   "cell_type": "code",
   "execution_count": 15,
   "metadata": {},
   "outputs": [],
   "source": [
    "r = requests.get(f\"https://api.spotify.com/v1/audio-features/?ids={hip_hop_ids_test}\", headers=headers)"
   ]
  },
  {
   "cell_type": "code",
   "execution_count": 16,
   "metadata": {},
   "outputs": [],
   "source": [
    "hip_hop_features = r.json()"
   ]
  },
  {
   "cell_type": "code",
   "execution_count": 17,
   "metadata": {},
   "outputs": [],
   "source": [
    "df_hip_hop = pd.DataFrame(hip_hop_features['audio_features'])"
   ]
  },
  {
   "cell_type": "code",
   "execution_count": 18,
   "metadata": {},
   "outputs": [],
   "source": [
    "df_hip_hop['target'] = \"Hip-Hop\""
   ]
  },
  {
   "cell_type": "code",
   "execution_count": 19,
   "metadata": {},
   "outputs": [
    {
     "data": {
      "text/html": [
       "<div>\n",
       "<style scoped>\n",
       "    .dataframe tbody tr th:only-of-type {\n",
       "        vertical-align: middle;\n",
       "    }\n",
       "\n",
       "    .dataframe tbody tr th {\n",
       "        vertical-align: top;\n",
       "    }\n",
       "\n",
       "    .dataframe thead th {\n",
       "        text-align: right;\n",
       "    }\n",
       "</style>\n",
       "<table border=\"1\" class=\"dataframe\">\n",
       "  <thead>\n",
       "    <tr style=\"text-align: right;\">\n",
       "      <th></th>\n",
       "      <th>acousticness</th>\n",
       "      <th>analysis_url</th>\n",
       "      <th>danceability</th>\n",
       "      <th>duration_ms</th>\n",
       "      <th>energy</th>\n",
       "      <th>id</th>\n",
       "      <th>instrumentalness</th>\n",
       "      <th>key</th>\n",
       "      <th>liveness</th>\n",
       "      <th>loudness</th>\n",
       "      <th>mode</th>\n",
       "      <th>speechiness</th>\n",
       "      <th>tempo</th>\n",
       "      <th>time_signature</th>\n",
       "      <th>track_href</th>\n",
       "      <th>type</th>\n",
       "      <th>uri</th>\n",
       "      <th>valence</th>\n",
       "      <th>target</th>\n",
       "    </tr>\n",
       "  </thead>\n",
       "  <tbody>\n",
       "    <tr>\n",
       "      <th>0</th>\n",
       "      <td>0.09270</td>\n",
       "      <td>https://api.spotify.com/v1/audio-analysis/6bXS...</td>\n",
       "      <td>0.908</td>\n",
       "      <td>152000</td>\n",
       "      <td>0.365</td>\n",
       "      <td>6bXSYxP6WDlNCr6Jk1H3MW</td>\n",
       "      <td>0.0</td>\n",
       "      <td>1</td>\n",
       "      <td>0.2610</td>\n",
       "      <td>-9.954</td>\n",
       "      <td>1</td>\n",
       "      <td>0.0942</td>\n",
       "      <td>119.977</td>\n",
       "      <td>4</td>\n",
       "      <td>https://api.spotify.com/v1/tracks/6bXSYxP6WDlN...</td>\n",
       "      <td>audio_features</td>\n",
       "      <td>spotify:track:6bXSYxP6WDlNCr6Jk1H3MW</td>\n",
       "      <td>0.742</td>\n",
       "      <td>Hip-Hop</td>\n",
       "    </tr>\n",
       "    <tr>\n",
       "      <th>1</th>\n",
       "      <td>0.00195</td>\n",
       "      <td>https://api.spotify.com/v1/audio-analysis/79OE...</td>\n",
       "      <td>0.942</td>\n",
       "      <td>177806</td>\n",
       "      <td>0.383</td>\n",
       "      <td>79OEIr4J4FHV0O3KrhaXRb</td>\n",
       "      <td>0.0</td>\n",
       "      <td>10</td>\n",
       "      <td>0.0922</td>\n",
       "      <td>-8.099</td>\n",
       "      <td>1</td>\n",
       "      <td>0.5650</td>\n",
       "      <td>100.021</td>\n",
       "      <td>4</td>\n",
       "      <td>https://api.spotify.com/v1/tracks/79OEIr4J4FHV...</td>\n",
       "      <td>audio_features</td>\n",
       "      <td>spotify:track:79OEIr4J4FHV0O3KrhaXRb</td>\n",
       "      <td>0.380</td>\n",
       "      <td>Hip-Hop</td>\n",
       "    </tr>\n",
       "    <tr>\n",
       "      <th>2</th>\n",
       "      <td>0.12800</td>\n",
       "      <td>https://api.spotify.com/v1/audio-analysis/6Gy7...</td>\n",
       "      <td>0.745</td>\n",
       "      <td>136032</td>\n",
       "      <td>0.715</td>\n",
       "      <td>6Gy7rXB6Ku5vIWC7WGWsl3</td>\n",
       "      <td>0.0</td>\n",
       "      <td>1</td>\n",
       "      <td>0.1820</td>\n",
       "      <td>-3.368</td>\n",
       "      <td>0</td>\n",
       "      <td>0.2450</td>\n",
       "      <td>94.513</td>\n",
       "      <td>4</td>\n",
       "      <td>https://api.spotify.com/v1/tracks/6Gy7rXB6Ku5v...</td>\n",
       "      <td>audio_features</td>\n",
       "      <td>spotify:track:6Gy7rXB6Ku5vIWC7WGWsl3</td>\n",
       "      <td>0.342</td>\n",
       "      <td>Hip-Hop</td>\n",
       "    </tr>\n",
       "    <tr>\n",
       "      <th>3</th>\n",
       "      <td>0.02350</td>\n",
       "      <td>https://api.spotify.com/v1/audio-analysis/6uSS...</td>\n",
       "      <td>0.736</td>\n",
       "      <td>192779</td>\n",
       "      <td>0.622</td>\n",
       "      <td>6uSSupG4TMu3vW8QgynAB6</td>\n",
       "      <td>0.0</td>\n",
       "      <td>6</td>\n",
       "      <td>0.1510</td>\n",
       "      <td>-4.653</td>\n",
       "      <td>0</td>\n",
       "      <td>0.1330</td>\n",
       "      <td>191.971</td>\n",
       "      <td>4</td>\n",
       "      <td>https://api.spotify.com/v1/tracks/6uSSupG4TMu3...</td>\n",
       "      <td>audio_features</td>\n",
       "      <td>spotify:track:6uSSupG4TMu3vW8QgynAB6</td>\n",
       "      <td>0.506</td>\n",
       "      <td>Hip-Hop</td>\n",
       "    </tr>\n",
       "    <tr>\n",
       "      <th>4</th>\n",
       "      <td>0.00545</td>\n",
       "      <td>https://api.spotify.com/v1/audio-analysis/0h0B...</td>\n",
       "      <td>0.885</td>\n",
       "      <td>121704</td>\n",
       "      <td>0.787</td>\n",
       "      <td>0h0BIUrAch3T6DVV6bFTKX</td>\n",
       "      <td>0.0</td>\n",
       "      <td>1</td>\n",
       "      <td>0.0669</td>\n",
       "      <td>-6.962</td>\n",
       "      <td>1</td>\n",
       "      <td>0.3210</td>\n",
       "      <td>146.066</td>\n",
       "      <td>4</td>\n",
       "      <td>https://api.spotify.com/v1/tracks/0h0BIUrAch3T...</td>\n",
       "      <td>audio_features</td>\n",
       "      <td>spotify:track:0h0BIUrAch3T6DVV6bFTKX</td>\n",
       "      <td>0.342</td>\n",
       "      <td>Hip-Hop</td>\n",
       "    </tr>\n",
       "  </tbody>\n",
       "</table>\n",
       "</div>"
      ],
      "text/plain": [
       "   acousticness                                       analysis_url  \\\n",
       "0       0.09270  https://api.spotify.com/v1/audio-analysis/6bXS...   \n",
       "1       0.00195  https://api.spotify.com/v1/audio-analysis/79OE...   \n",
       "2       0.12800  https://api.spotify.com/v1/audio-analysis/6Gy7...   \n",
       "3       0.02350  https://api.spotify.com/v1/audio-analysis/6uSS...   \n",
       "4       0.00545  https://api.spotify.com/v1/audio-analysis/0h0B...   \n",
       "\n",
       "   danceability  duration_ms  energy                      id  \\\n",
       "0         0.908       152000   0.365  6bXSYxP6WDlNCr6Jk1H3MW   \n",
       "1         0.942       177806   0.383  79OEIr4J4FHV0O3KrhaXRb   \n",
       "2         0.745       136032   0.715  6Gy7rXB6Ku5vIWC7WGWsl3   \n",
       "3         0.736       192779   0.622  6uSSupG4TMu3vW8QgynAB6   \n",
       "4         0.885       121704   0.787  0h0BIUrAch3T6DVV6bFTKX   \n",
       "\n",
       "   instrumentalness  key  liveness  loudness  mode  speechiness    tempo  \\\n",
       "0               0.0    1    0.2610    -9.954     1       0.0942  119.977   \n",
       "1               0.0   10    0.0922    -8.099     1       0.5650  100.021   \n",
       "2               0.0    1    0.1820    -3.368     0       0.2450   94.513   \n",
       "3               0.0    6    0.1510    -4.653     0       0.1330  191.971   \n",
       "4               0.0    1    0.0669    -6.962     1       0.3210  146.066   \n",
       "\n",
       "   time_signature                                         track_href  \\\n",
       "0               4  https://api.spotify.com/v1/tracks/6bXSYxP6WDlN...   \n",
       "1               4  https://api.spotify.com/v1/tracks/79OEIr4J4FHV...   \n",
       "2               4  https://api.spotify.com/v1/tracks/6Gy7rXB6Ku5v...   \n",
       "3               4  https://api.spotify.com/v1/tracks/6uSSupG4TMu3...   \n",
       "4               4  https://api.spotify.com/v1/tracks/0h0BIUrAch3T...   \n",
       "\n",
       "             type                                   uri  valence   target  \n",
       "0  audio_features  spotify:track:6bXSYxP6WDlNCr6Jk1H3MW    0.742  Hip-Hop  \n",
       "1  audio_features  spotify:track:79OEIr4J4FHV0O3KrhaXRb    0.380  Hip-Hop  \n",
       "2  audio_features  spotify:track:6Gy7rXB6Ku5vIWC7WGWsl3    0.342  Hip-Hop  \n",
       "3  audio_features  spotify:track:6uSSupG4TMu3vW8QgynAB6    0.506  Hip-Hop  \n",
       "4  audio_features  spotify:track:0h0BIUrAch3T6DVV6bFTKX    0.342  Hip-Hop  "
      ]
     },
     "execution_count": 19,
     "metadata": {},
     "output_type": "execute_result"
    }
   ],
   "source": [
    "df_hip_hop.head()"
   ]
  },
  {
   "cell_type": "code",
   "execution_count": 20,
   "metadata": {},
   "outputs": [],
   "source": [
    "classical_ids = \",\".join(classical_ids)"
   ]
  },
  {
   "cell_type": "code",
   "execution_count": 21,
   "metadata": {},
   "outputs": [],
   "source": [
    "r = requests.get(f\"https://api.spotify.com/v1/audio-features/?ids={classical_ids}\", headers=headers)\n",
    "classical_features = r.json()"
   ]
  },
  {
   "cell_type": "code",
   "execution_count": 22,
   "metadata": {},
   "outputs": [],
   "source": [
    "df_classical = pd.DataFrame(classical_features['audio_features'])"
   ]
  },
  {
   "cell_type": "code",
   "execution_count": 23,
   "metadata": {},
   "outputs": [],
   "source": [
    "df_classical['target'] = \"Classical\""
   ]
  },
  {
   "cell_type": "code",
   "execution_count": 24,
   "metadata": {},
   "outputs": [
    {
     "data": {
      "text/html": [
       "<div>\n",
       "<style scoped>\n",
       "    .dataframe tbody tr th:only-of-type {\n",
       "        vertical-align: middle;\n",
       "    }\n",
       "\n",
       "    .dataframe tbody tr th {\n",
       "        vertical-align: top;\n",
       "    }\n",
       "\n",
       "    .dataframe thead th {\n",
       "        text-align: right;\n",
       "    }\n",
       "</style>\n",
       "<table border=\"1\" class=\"dataframe\">\n",
       "  <thead>\n",
       "    <tr style=\"text-align: right;\">\n",
       "      <th></th>\n",
       "      <th>acousticness</th>\n",
       "      <th>analysis_url</th>\n",
       "      <th>danceability</th>\n",
       "      <th>duration_ms</th>\n",
       "      <th>energy</th>\n",
       "      <th>id</th>\n",
       "      <th>instrumentalness</th>\n",
       "      <th>key</th>\n",
       "      <th>liveness</th>\n",
       "      <th>loudness</th>\n",
       "      <th>mode</th>\n",
       "      <th>speechiness</th>\n",
       "      <th>tempo</th>\n",
       "      <th>time_signature</th>\n",
       "      <th>track_href</th>\n",
       "      <th>type</th>\n",
       "      <th>uri</th>\n",
       "      <th>valence</th>\n",
       "      <th>target</th>\n",
       "    </tr>\n",
       "  </thead>\n",
       "  <tbody>\n",
       "    <tr>\n",
       "      <th>0</th>\n",
       "      <td>0.994</td>\n",
       "      <td>https://api.spotify.com/v1/audio-analysis/43bS...</td>\n",
       "      <td>0.242</td>\n",
       "      <td>257000</td>\n",
       "      <td>0.00898</td>\n",
       "      <td>43bSKCMWHIuBsUVmQcDX1J</td>\n",
       "      <td>0.909</td>\n",
       "      <td>7</td>\n",
       "      <td>0.0814</td>\n",
       "      <td>-31.811</td>\n",
       "      <td>0</td>\n",
       "      <td>0.0424</td>\n",
       "      <td>68.880</td>\n",
       "      <td>5</td>\n",
       "      <td>https://api.spotify.com/v1/tracks/43bSKCMWHIuB...</td>\n",
       "      <td>audio_features</td>\n",
       "      <td>spotify:track:43bSKCMWHIuBsUVmQcDX1J</td>\n",
       "      <td>0.0549</td>\n",
       "      <td>Classical</td>\n",
       "    </tr>\n",
       "    <tr>\n",
       "      <th>1</th>\n",
       "      <td>0.982</td>\n",
       "      <td>https://api.spotify.com/v1/audio-analysis/2Yar...</td>\n",
       "      <td>0.194</td>\n",
       "      <td>433800</td>\n",
       "      <td>0.03240</td>\n",
       "      <td>2YarjDYjBJuH63dUIh9OWv</td>\n",
       "      <td>0.961</td>\n",
       "      <td>5</td>\n",
       "      <td>0.0916</td>\n",
       "      <td>-28.215</td>\n",
       "      <td>1</td>\n",
       "      <td>0.0382</td>\n",
       "      <td>144.130</td>\n",
       "      <td>4</td>\n",
       "      <td>https://api.spotify.com/v1/tracks/2YarjDYjBJuH...</td>\n",
       "      <td>audio_features</td>\n",
       "      <td>spotify:track:2YarjDYjBJuH63dUIh9OWv</td>\n",
       "      <td>0.0596</td>\n",
       "      <td>Classical</td>\n",
       "    </tr>\n",
       "    <tr>\n",
       "      <th>2</th>\n",
       "      <td>0.890</td>\n",
       "      <td>https://api.spotify.com/v1/audio-analysis/17i5...</td>\n",
       "      <td>0.275</td>\n",
       "      <td>152280</td>\n",
       "      <td>0.15700</td>\n",
       "      <td>17i5jLpzndlQhbS4SrTd0B</td>\n",
       "      <td>0.842</td>\n",
       "      <td>7</td>\n",
       "      <td>0.1860</td>\n",
       "      <td>-18.752</td>\n",
       "      <td>1</td>\n",
       "      <td>0.0636</td>\n",
       "      <td>73.289</td>\n",
       "      <td>4</td>\n",
       "      <td>https://api.spotify.com/v1/tracks/17i5jLpzndlQ...</td>\n",
       "      <td>audio_features</td>\n",
       "      <td>spotify:track:17i5jLpzndlQhbS4SrTd0B</td>\n",
       "      <td>0.3040</td>\n",
       "      <td>Classical</td>\n",
       "    </tr>\n",
       "    <tr>\n",
       "      <th>3</th>\n",
       "      <td>0.995</td>\n",
       "      <td>https://api.spotify.com/v1/audio-analysis/4q8f...</td>\n",
       "      <td>0.398</td>\n",
       "      <td>348333</td>\n",
       "      <td>0.00293</td>\n",
       "      <td>4q8f3Ls32PcXE8Ks4V1ufx</td>\n",
       "      <td>0.922</td>\n",
       "      <td>1</td>\n",
       "      <td>0.0897</td>\n",
       "      <td>-29.481</td>\n",
       "      <td>1</td>\n",
       "      <td>0.0666</td>\n",
       "      <td>130.464</td>\n",
       "      <td>4</td>\n",
       "      <td>https://api.spotify.com/v1/tracks/4q8f3Ls32PcX...</td>\n",
       "      <td>audio_features</td>\n",
       "      <td>spotify:track:4q8f3Ls32PcXE8Ks4V1ufx</td>\n",
       "      <td>0.0804</td>\n",
       "      <td>Classical</td>\n",
       "    </tr>\n",
       "    <tr>\n",
       "      <th>4</th>\n",
       "      <td>0.964</td>\n",
       "      <td>https://api.spotify.com/v1/audio-analysis/6lnt...</td>\n",
       "      <td>0.364</td>\n",
       "      <td>822307</td>\n",
       "      <td>0.18900</td>\n",
       "      <td>6lnttZF0hDaVyVZBEgpJ3I</td>\n",
       "      <td>0.820</td>\n",
       "      <td>2</td>\n",
       "      <td>0.0769</td>\n",
       "      <td>-22.125</td>\n",
       "      <td>0</td>\n",
       "      <td>0.0425</td>\n",
       "      <td>111.408</td>\n",
       "      <td>4</td>\n",
       "      <td>https://api.spotify.com/v1/tracks/6lnttZF0hDaV...</td>\n",
       "      <td>audio_features</td>\n",
       "      <td>spotify:track:6lnttZF0hDaVyVZBEgpJ3I</td>\n",
       "      <td>0.2830</td>\n",
       "      <td>Classical</td>\n",
       "    </tr>\n",
       "  </tbody>\n",
       "</table>\n",
       "</div>"
      ],
      "text/plain": [
       "   acousticness                                       analysis_url  \\\n",
       "0         0.994  https://api.spotify.com/v1/audio-analysis/43bS...   \n",
       "1         0.982  https://api.spotify.com/v1/audio-analysis/2Yar...   \n",
       "2         0.890  https://api.spotify.com/v1/audio-analysis/17i5...   \n",
       "3         0.995  https://api.spotify.com/v1/audio-analysis/4q8f...   \n",
       "4         0.964  https://api.spotify.com/v1/audio-analysis/6lnt...   \n",
       "\n",
       "   danceability  duration_ms   energy                      id  \\\n",
       "0         0.242       257000  0.00898  43bSKCMWHIuBsUVmQcDX1J   \n",
       "1         0.194       433800  0.03240  2YarjDYjBJuH63dUIh9OWv   \n",
       "2         0.275       152280  0.15700  17i5jLpzndlQhbS4SrTd0B   \n",
       "3         0.398       348333  0.00293  4q8f3Ls32PcXE8Ks4V1ufx   \n",
       "4         0.364       822307  0.18900  6lnttZF0hDaVyVZBEgpJ3I   \n",
       "\n",
       "   instrumentalness  key  liveness  loudness  mode  speechiness    tempo  \\\n",
       "0             0.909    7    0.0814   -31.811     0       0.0424   68.880   \n",
       "1             0.961    5    0.0916   -28.215     1       0.0382  144.130   \n",
       "2             0.842    7    0.1860   -18.752     1       0.0636   73.289   \n",
       "3             0.922    1    0.0897   -29.481     1       0.0666  130.464   \n",
       "4             0.820    2    0.0769   -22.125     0       0.0425  111.408   \n",
       "\n",
       "   time_signature                                         track_href  \\\n",
       "0               5  https://api.spotify.com/v1/tracks/43bSKCMWHIuB...   \n",
       "1               4  https://api.spotify.com/v1/tracks/2YarjDYjBJuH...   \n",
       "2               4  https://api.spotify.com/v1/tracks/17i5jLpzndlQ...   \n",
       "3               4  https://api.spotify.com/v1/tracks/4q8f3Ls32PcX...   \n",
       "4               4  https://api.spotify.com/v1/tracks/6lnttZF0hDaV...   \n",
       "\n",
       "             type                                   uri  valence     target  \n",
       "0  audio_features  spotify:track:43bSKCMWHIuBsUVmQcDX1J   0.0549  Classical  \n",
       "1  audio_features  spotify:track:2YarjDYjBJuH63dUIh9OWv   0.0596  Classical  \n",
       "2  audio_features  spotify:track:17i5jLpzndlQhbS4SrTd0B   0.3040  Classical  \n",
       "3  audio_features  spotify:track:4q8f3Ls32PcXE8Ks4V1ufx   0.0804  Classical  \n",
       "4  audio_features  spotify:track:6lnttZF0hDaVyVZBEgpJ3I   0.2830  Classical  "
      ]
     },
     "execution_count": 24,
     "metadata": {},
     "output_type": "execute_result"
    }
   ],
   "source": [
    "df_classical.head()"
   ]
  },
  {
   "cell_type": "code",
   "execution_count": 25,
   "metadata": {},
   "outputs": [],
   "source": [
    "techno_ids = \",\".join(techno_ids)"
   ]
  },
  {
   "cell_type": "code",
   "execution_count": 26,
   "metadata": {},
   "outputs": [],
   "source": [
    "r = requests.get(f\"https://api.spotify.com/v1/audio-features/?ids={techno_ids}\", headers=headers)\n",
    "techno_features = r.json()"
   ]
  },
  {
   "cell_type": "code",
   "execution_count": 27,
   "metadata": {},
   "outputs": [],
   "source": [
    "df_techno = pd.DataFrame(techno_features['audio_features'])"
   ]
  },
  {
   "cell_type": "code",
   "execution_count": 28,
   "metadata": {},
   "outputs": [],
   "source": [
    "df_techno['target'] = 'Techno'"
   ]
  },
  {
   "cell_type": "code",
   "execution_count": 29,
   "metadata": {},
   "outputs": [
    {
     "data": {
      "text/html": [
       "<div>\n",
       "<style scoped>\n",
       "    .dataframe tbody tr th:only-of-type {\n",
       "        vertical-align: middle;\n",
       "    }\n",
       "\n",
       "    .dataframe tbody tr th {\n",
       "        vertical-align: top;\n",
       "    }\n",
       "\n",
       "    .dataframe thead th {\n",
       "        text-align: right;\n",
       "    }\n",
       "</style>\n",
       "<table border=\"1\" class=\"dataframe\">\n",
       "  <thead>\n",
       "    <tr style=\"text-align: right;\">\n",
       "      <th></th>\n",
       "      <th>acousticness</th>\n",
       "      <th>analysis_url</th>\n",
       "      <th>danceability</th>\n",
       "      <th>duration_ms</th>\n",
       "      <th>energy</th>\n",
       "      <th>id</th>\n",
       "      <th>instrumentalness</th>\n",
       "      <th>key</th>\n",
       "      <th>liveness</th>\n",
       "      <th>loudness</th>\n",
       "      <th>mode</th>\n",
       "      <th>speechiness</th>\n",
       "      <th>tempo</th>\n",
       "      <th>time_signature</th>\n",
       "      <th>track_href</th>\n",
       "      <th>type</th>\n",
       "      <th>uri</th>\n",
       "      <th>valence</th>\n",
       "      <th>target</th>\n",
       "    </tr>\n",
       "  </thead>\n",
       "  <tbody>\n",
       "    <tr>\n",
       "      <th>0</th>\n",
       "      <td>0.00855</td>\n",
       "      <td>https://api.spotify.com/v1/audio-analysis/5qLZ...</td>\n",
       "      <td>0.662</td>\n",
       "      <td>420000</td>\n",
       "      <td>0.676</td>\n",
       "      <td>5qLZvk6aOHiP7ojmSVuCq0</td>\n",
       "      <td>0.891</td>\n",
       "      <td>7</td>\n",
       "      <td>0.1180</td>\n",
       "      <td>-9.889</td>\n",
       "      <td>1</td>\n",
       "      <td>0.0425</td>\n",
       "      <td>127.001</td>\n",
       "      <td>4</td>\n",
       "      <td>https://api.spotify.com/v1/tracks/5qLZvk6aOHiP...</td>\n",
       "      <td>audio_features</td>\n",
       "      <td>spotify:track:5qLZvk6aOHiP7ojmSVuCq0</td>\n",
       "      <td>0.2380</td>\n",
       "      <td>Techno</td>\n",
       "    </tr>\n",
       "    <tr>\n",
       "      <th>1</th>\n",
       "      <td>0.00198</td>\n",
       "      <td>https://api.spotify.com/v1/audio-analysis/0yfL...</td>\n",
       "      <td>0.702</td>\n",
       "      <td>487500</td>\n",
       "      <td>0.739</td>\n",
       "      <td>0yfLOwZmzWmdFLPmmQhGd0</td>\n",
       "      <td>0.836</td>\n",
       "      <td>11</td>\n",
       "      <td>0.1080</td>\n",
       "      <td>-10.583</td>\n",
       "      <td>0</td>\n",
       "      <td>0.0738</td>\n",
       "      <td>127.978</td>\n",
       "      <td>4</td>\n",
       "      <td>https://api.spotify.com/v1/tracks/0yfLOwZmzWmd...</td>\n",
       "      <td>audio_features</td>\n",
       "      <td>spotify:track:0yfLOwZmzWmdFLPmmQhGd0</td>\n",
       "      <td>0.0705</td>\n",
       "      <td>Techno</td>\n",
       "    </tr>\n",
       "    <tr>\n",
       "      <th>2</th>\n",
       "      <td>0.02420</td>\n",
       "      <td>https://api.spotify.com/v1/audio-analysis/0eCZ...</td>\n",
       "      <td>0.809</td>\n",
       "      <td>454219</td>\n",
       "      <td>0.871</td>\n",
       "      <td>0eCZ374V0zfrvAGiiy5ToH</td>\n",
       "      <td>0.807</td>\n",
       "      <td>7</td>\n",
       "      <td>0.0897</td>\n",
       "      <td>-8.863</td>\n",
       "      <td>0</td>\n",
       "      <td>0.0545</td>\n",
       "      <td>128.032</td>\n",
       "      <td>4</td>\n",
       "      <td>https://api.spotify.com/v1/tracks/0eCZ374V0zfr...</td>\n",
       "      <td>audio_features</td>\n",
       "      <td>spotify:track:0eCZ374V0zfrvAGiiy5ToH</td>\n",
       "      <td>0.0187</td>\n",
       "      <td>Techno</td>\n",
       "    </tr>\n",
       "    <tr>\n",
       "      <th>3</th>\n",
       "      <td>0.04560</td>\n",
       "      <td>https://api.spotify.com/v1/audio-analysis/31Aa...</td>\n",
       "      <td>0.742</td>\n",
       "      <td>426982</td>\n",
       "      <td>0.574</td>\n",
       "      <td>31Aarc1eLNAh6QRxQsXTN4</td>\n",
       "      <td>0.856</td>\n",
       "      <td>4</td>\n",
       "      <td>0.0918</td>\n",
       "      <td>-11.273</td>\n",
       "      <td>0</td>\n",
       "      <td>0.0403</td>\n",
       "      <td>127.040</td>\n",
       "      <td>4</td>\n",
       "      <td>https://api.spotify.com/v1/tracks/31Aarc1eLNAh...</td>\n",
       "      <td>audio_features</td>\n",
       "      <td>spotify:track:31Aarc1eLNAh6QRxQsXTN4</td>\n",
       "      <td>0.0387</td>\n",
       "      <td>Techno</td>\n",
       "    </tr>\n",
       "    <tr>\n",
       "      <th>4</th>\n",
       "      <td>0.00213</td>\n",
       "      <td>https://api.spotify.com/v1/audio-analysis/47io...</td>\n",
       "      <td>0.779</td>\n",
       "      <td>424252</td>\n",
       "      <td>0.800</td>\n",
       "      <td>47ioykvTZqjTNbXSzTijAM</td>\n",
       "      <td>0.900</td>\n",
       "      <td>0</td>\n",
       "      <td>0.0823</td>\n",
       "      <td>-11.338</td>\n",
       "      <td>1</td>\n",
       "      <td>0.0490</td>\n",
       "      <td>127.005</td>\n",
       "      <td>4</td>\n",
       "      <td>https://api.spotify.com/v1/tracks/47ioykvTZqjT...</td>\n",
       "      <td>audio_features</td>\n",
       "      <td>spotify:track:47ioykvTZqjTNbXSzTijAM</td>\n",
       "      <td>0.1480</td>\n",
       "      <td>Techno</td>\n",
       "    </tr>\n",
       "  </tbody>\n",
       "</table>\n",
       "</div>"
      ],
      "text/plain": [
       "   acousticness                                       analysis_url  \\\n",
       "0       0.00855  https://api.spotify.com/v1/audio-analysis/5qLZ...   \n",
       "1       0.00198  https://api.spotify.com/v1/audio-analysis/0yfL...   \n",
       "2       0.02420  https://api.spotify.com/v1/audio-analysis/0eCZ...   \n",
       "3       0.04560  https://api.spotify.com/v1/audio-analysis/31Aa...   \n",
       "4       0.00213  https://api.spotify.com/v1/audio-analysis/47io...   \n",
       "\n",
       "   danceability  duration_ms  energy                      id  \\\n",
       "0         0.662       420000   0.676  5qLZvk6aOHiP7ojmSVuCq0   \n",
       "1         0.702       487500   0.739  0yfLOwZmzWmdFLPmmQhGd0   \n",
       "2         0.809       454219   0.871  0eCZ374V0zfrvAGiiy5ToH   \n",
       "3         0.742       426982   0.574  31Aarc1eLNAh6QRxQsXTN4   \n",
       "4         0.779       424252   0.800  47ioykvTZqjTNbXSzTijAM   \n",
       "\n",
       "   instrumentalness  key  liveness  loudness  mode  speechiness    tempo  \\\n",
       "0             0.891    7    0.1180    -9.889     1       0.0425  127.001   \n",
       "1             0.836   11    0.1080   -10.583     0       0.0738  127.978   \n",
       "2             0.807    7    0.0897    -8.863     0       0.0545  128.032   \n",
       "3             0.856    4    0.0918   -11.273     0       0.0403  127.040   \n",
       "4             0.900    0    0.0823   -11.338     1       0.0490  127.005   \n",
       "\n",
       "   time_signature                                         track_href  \\\n",
       "0               4  https://api.spotify.com/v1/tracks/5qLZvk6aOHiP...   \n",
       "1               4  https://api.spotify.com/v1/tracks/0yfLOwZmzWmd...   \n",
       "2               4  https://api.spotify.com/v1/tracks/0eCZ374V0zfr...   \n",
       "3               4  https://api.spotify.com/v1/tracks/31Aarc1eLNAh...   \n",
       "4               4  https://api.spotify.com/v1/tracks/47ioykvTZqjT...   \n",
       "\n",
       "             type                                   uri  valence  target  \n",
       "0  audio_features  spotify:track:5qLZvk6aOHiP7ojmSVuCq0   0.2380  Techno  \n",
       "1  audio_features  spotify:track:0yfLOwZmzWmdFLPmmQhGd0   0.0705  Techno  \n",
       "2  audio_features  spotify:track:0eCZ374V0zfrvAGiiy5ToH   0.0187  Techno  \n",
       "3  audio_features  spotify:track:31Aarc1eLNAh6QRxQsXTN4   0.0387  Techno  \n",
       "4  audio_features  spotify:track:47ioykvTZqjTNbXSzTijAM   0.1480  Techno  "
      ]
     },
     "execution_count": 29,
     "metadata": {},
     "output_type": "execute_result"
    }
   ],
   "source": [
    "df_techno.head()"
   ]
  },
  {
   "cell_type": "markdown",
   "metadata": {},
   "source": [
    "##### Combining DataFrames"
   ]
  },
  {
   "cell_type": "code",
   "execution_count": 30,
   "metadata": {},
   "outputs": [],
   "source": [
    "all_df = pd.concat([df_hip_hop,df_classical,df_techno])"
   ]
  },
  {
   "cell_type": "code",
   "execution_count": 31,
   "metadata": {
    "scrolled": false
   },
   "outputs": [
    {
     "data": {
      "text/html": [
       "<div>\n",
       "<style scoped>\n",
       "    .dataframe tbody tr th:only-of-type {\n",
       "        vertical-align: middle;\n",
       "    }\n",
       "\n",
       "    .dataframe tbody tr th {\n",
       "        vertical-align: top;\n",
       "    }\n",
       "\n",
       "    .dataframe thead th {\n",
       "        text-align: right;\n",
       "    }\n",
       "</style>\n",
       "<table border=\"1\" class=\"dataframe\">\n",
       "  <thead>\n",
       "    <tr style=\"text-align: right;\">\n",
       "      <th></th>\n",
       "      <th>acousticness</th>\n",
       "      <th>analysis_url</th>\n",
       "      <th>danceability</th>\n",
       "      <th>duration_ms</th>\n",
       "      <th>energy</th>\n",
       "      <th>id</th>\n",
       "      <th>instrumentalness</th>\n",
       "      <th>key</th>\n",
       "      <th>liveness</th>\n",
       "      <th>loudness</th>\n",
       "      <th>mode</th>\n",
       "      <th>speechiness</th>\n",
       "      <th>tempo</th>\n",
       "      <th>time_signature</th>\n",
       "      <th>track_href</th>\n",
       "      <th>type</th>\n",
       "      <th>uri</th>\n",
       "      <th>valence</th>\n",
       "      <th>target</th>\n",
       "    </tr>\n",
       "  </thead>\n",
       "  <tbody>\n",
       "    <tr>\n",
       "      <th>0</th>\n",
       "      <td>0.09270</td>\n",
       "      <td>https://api.spotify.com/v1/audio-analysis/6bXS...</td>\n",
       "      <td>0.908</td>\n",
       "      <td>152000</td>\n",
       "      <td>0.365</td>\n",
       "      <td>6bXSYxP6WDlNCr6Jk1H3MW</td>\n",
       "      <td>0.0</td>\n",
       "      <td>1</td>\n",
       "      <td>0.2610</td>\n",
       "      <td>-9.954</td>\n",
       "      <td>1</td>\n",
       "      <td>0.0942</td>\n",
       "      <td>119.977</td>\n",
       "      <td>4</td>\n",
       "      <td>https://api.spotify.com/v1/tracks/6bXSYxP6WDlN...</td>\n",
       "      <td>audio_features</td>\n",
       "      <td>spotify:track:6bXSYxP6WDlNCr6Jk1H3MW</td>\n",
       "      <td>0.742</td>\n",
       "      <td>Hip-Hop</td>\n",
       "    </tr>\n",
       "    <tr>\n",
       "      <th>1</th>\n",
       "      <td>0.00195</td>\n",
       "      <td>https://api.spotify.com/v1/audio-analysis/79OE...</td>\n",
       "      <td>0.942</td>\n",
       "      <td>177806</td>\n",
       "      <td>0.383</td>\n",
       "      <td>79OEIr4J4FHV0O3KrhaXRb</td>\n",
       "      <td>0.0</td>\n",
       "      <td>10</td>\n",
       "      <td>0.0922</td>\n",
       "      <td>-8.099</td>\n",
       "      <td>1</td>\n",
       "      <td>0.5650</td>\n",
       "      <td>100.021</td>\n",
       "      <td>4</td>\n",
       "      <td>https://api.spotify.com/v1/tracks/79OEIr4J4FHV...</td>\n",
       "      <td>audio_features</td>\n",
       "      <td>spotify:track:79OEIr4J4FHV0O3KrhaXRb</td>\n",
       "      <td>0.380</td>\n",
       "      <td>Hip-Hop</td>\n",
       "    </tr>\n",
       "    <tr>\n",
       "      <th>2</th>\n",
       "      <td>0.12800</td>\n",
       "      <td>https://api.spotify.com/v1/audio-analysis/6Gy7...</td>\n",
       "      <td>0.745</td>\n",
       "      <td>136032</td>\n",
       "      <td>0.715</td>\n",
       "      <td>6Gy7rXB6Ku5vIWC7WGWsl3</td>\n",
       "      <td>0.0</td>\n",
       "      <td>1</td>\n",
       "      <td>0.1820</td>\n",
       "      <td>-3.368</td>\n",
       "      <td>0</td>\n",
       "      <td>0.2450</td>\n",
       "      <td>94.513</td>\n",
       "      <td>4</td>\n",
       "      <td>https://api.spotify.com/v1/tracks/6Gy7rXB6Ku5v...</td>\n",
       "      <td>audio_features</td>\n",
       "      <td>spotify:track:6Gy7rXB6Ku5vIWC7WGWsl3</td>\n",
       "      <td>0.342</td>\n",
       "      <td>Hip-Hop</td>\n",
       "    </tr>\n",
       "    <tr>\n",
       "      <th>3</th>\n",
       "      <td>0.02350</td>\n",
       "      <td>https://api.spotify.com/v1/audio-analysis/6uSS...</td>\n",
       "      <td>0.736</td>\n",
       "      <td>192779</td>\n",
       "      <td>0.622</td>\n",
       "      <td>6uSSupG4TMu3vW8QgynAB6</td>\n",
       "      <td>0.0</td>\n",
       "      <td>6</td>\n",
       "      <td>0.1510</td>\n",
       "      <td>-4.653</td>\n",
       "      <td>0</td>\n",
       "      <td>0.1330</td>\n",
       "      <td>191.971</td>\n",
       "      <td>4</td>\n",
       "      <td>https://api.spotify.com/v1/tracks/6uSSupG4TMu3...</td>\n",
       "      <td>audio_features</td>\n",
       "      <td>spotify:track:6uSSupG4TMu3vW8QgynAB6</td>\n",
       "      <td>0.506</td>\n",
       "      <td>Hip-Hop</td>\n",
       "    </tr>\n",
       "    <tr>\n",
       "      <th>4</th>\n",
       "      <td>0.00545</td>\n",
       "      <td>https://api.spotify.com/v1/audio-analysis/0h0B...</td>\n",
       "      <td>0.885</td>\n",
       "      <td>121704</td>\n",
       "      <td>0.787</td>\n",
       "      <td>0h0BIUrAch3T6DVV6bFTKX</td>\n",
       "      <td>0.0</td>\n",
       "      <td>1</td>\n",
       "      <td>0.0669</td>\n",
       "      <td>-6.962</td>\n",
       "      <td>1</td>\n",
       "      <td>0.3210</td>\n",
       "      <td>146.066</td>\n",
       "      <td>4</td>\n",
       "      <td>https://api.spotify.com/v1/tracks/0h0BIUrAch3T...</td>\n",
       "      <td>audio_features</td>\n",
       "      <td>spotify:track:0h0BIUrAch3T6DVV6bFTKX</td>\n",
       "      <td>0.342</td>\n",
       "      <td>Hip-Hop</td>\n",
       "    </tr>\n",
       "  </tbody>\n",
       "</table>\n",
       "</div>"
      ],
      "text/plain": [
       "   acousticness                                       analysis_url  \\\n",
       "0       0.09270  https://api.spotify.com/v1/audio-analysis/6bXS...   \n",
       "1       0.00195  https://api.spotify.com/v1/audio-analysis/79OE...   \n",
       "2       0.12800  https://api.spotify.com/v1/audio-analysis/6Gy7...   \n",
       "3       0.02350  https://api.spotify.com/v1/audio-analysis/6uSS...   \n",
       "4       0.00545  https://api.spotify.com/v1/audio-analysis/0h0B...   \n",
       "\n",
       "   danceability  duration_ms  energy                      id  \\\n",
       "0         0.908       152000   0.365  6bXSYxP6WDlNCr6Jk1H3MW   \n",
       "1         0.942       177806   0.383  79OEIr4J4FHV0O3KrhaXRb   \n",
       "2         0.745       136032   0.715  6Gy7rXB6Ku5vIWC7WGWsl3   \n",
       "3         0.736       192779   0.622  6uSSupG4TMu3vW8QgynAB6   \n",
       "4         0.885       121704   0.787  0h0BIUrAch3T6DVV6bFTKX   \n",
       "\n",
       "   instrumentalness  key  liveness  loudness  mode  speechiness    tempo  \\\n",
       "0               0.0    1    0.2610    -9.954     1       0.0942  119.977   \n",
       "1               0.0   10    0.0922    -8.099     1       0.5650  100.021   \n",
       "2               0.0    1    0.1820    -3.368     0       0.2450   94.513   \n",
       "3               0.0    6    0.1510    -4.653     0       0.1330  191.971   \n",
       "4               0.0    1    0.0669    -6.962     1       0.3210  146.066   \n",
       "\n",
       "   time_signature                                         track_href  \\\n",
       "0               4  https://api.spotify.com/v1/tracks/6bXSYxP6WDlN...   \n",
       "1               4  https://api.spotify.com/v1/tracks/79OEIr4J4FHV...   \n",
       "2               4  https://api.spotify.com/v1/tracks/6Gy7rXB6Ku5v...   \n",
       "3               4  https://api.spotify.com/v1/tracks/6uSSupG4TMu3...   \n",
       "4               4  https://api.spotify.com/v1/tracks/0h0BIUrAch3T...   \n",
       "\n",
       "             type                                   uri  valence   target  \n",
       "0  audio_features  spotify:track:6bXSYxP6WDlNCr6Jk1H3MW    0.742  Hip-Hop  \n",
       "1  audio_features  spotify:track:79OEIr4J4FHV0O3KrhaXRb    0.380  Hip-Hop  \n",
       "2  audio_features  spotify:track:6Gy7rXB6Ku5vIWC7WGWsl3    0.342  Hip-Hop  \n",
       "3  audio_features  spotify:track:6uSSupG4TMu3vW8QgynAB6    0.506  Hip-Hop  \n",
       "4  audio_features  spotify:track:0h0BIUrAch3T6DVV6bFTKX    0.342  Hip-Hop  "
      ]
     },
     "execution_count": 31,
     "metadata": {},
     "output_type": "execute_result"
    }
   ],
   "source": [
    "all_df.head()"
   ]
  },
  {
   "cell_type": "markdown",
   "metadata": {},
   "source": [
    "##### Selecting features for algorithm"
   ]
  },
  {
   "cell_type": "code",
   "execution_count": 32,
   "metadata": {},
   "outputs": [],
   "source": [
    "X = all_df[['acousticness', 'danceability', 'energy', 'instrumentalness', 'key', 'liveness', 'loudness', 'speechiness', 'tempo', 'time_signature', 'valence']]"
   ]
  },
  {
   "cell_type": "code",
   "execution_count": 33,
   "metadata": {},
   "outputs": [
    {
     "name": "stdout",
     "output_type": "stream",
     "text": [
      "Stored 'X' (DataFrame)\n"
     ]
    }
   ],
   "source": [
    "y = all_df.target\n",
    "%store X"
   ]
  },
  {
   "cell_type": "code",
   "execution_count": 34,
   "metadata": {},
   "outputs": [
    {
     "name": "stdout",
     "output_type": "stream",
     "text": [
      "Stored 'y' (Series)\n"
     ]
    }
   ],
   "source": [
    "%store y"
   ]
  },
  {
   "cell_type": "code",
   "execution_count": 35,
   "metadata": {},
   "outputs": [
    {
     "data": {
      "text/plain": [
       "0    Hip-Hop\n",
       "1    Hip-Hop\n",
       "2    Hip-Hop\n",
       "3    Hip-Hop\n",
       "4    Hip-Hop\n",
       "Name: target, dtype: object"
      ]
     },
     "execution_count": 35,
     "metadata": {},
     "output_type": "execute_result"
    }
   ],
   "source": [
    "y.head()"
   ]
  },
  {
   "cell_type": "markdown",
   "metadata": {},
   "source": [
    "###### Scaling Features"
   ]
  },
  {
   "cell_type": "code",
   "execution_count": 36,
   "metadata": {},
   "outputs": [
    {
     "data": {
      "text/html": [
       "<div>\n",
       "<style scoped>\n",
       "    .dataframe tbody tr th:only-of-type {\n",
       "        vertical-align: middle;\n",
       "    }\n",
       "\n",
       "    .dataframe tbody tr th {\n",
       "        vertical-align: top;\n",
       "    }\n",
       "\n",
       "    .dataframe thead th {\n",
       "        text-align: right;\n",
       "    }\n",
       "</style>\n",
       "<table border=\"1\" class=\"dataframe\">\n",
       "  <thead>\n",
       "    <tr style=\"text-align: right;\">\n",
       "      <th></th>\n",
       "      <th>acousticness</th>\n",
       "      <th>danceability</th>\n",
       "      <th>energy</th>\n",
       "      <th>instrumentalness</th>\n",
       "      <th>key</th>\n",
       "      <th>liveness</th>\n",
       "      <th>loudness</th>\n",
       "      <th>speechiness</th>\n",
       "      <th>tempo</th>\n",
       "      <th>time_signature</th>\n",
       "      <th>valence</th>\n",
       "    </tr>\n",
       "  </thead>\n",
       "  <tbody>\n",
       "    <tr>\n",
       "      <th>0</th>\n",
       "      <td>0.09270</td>\n",
       "      <td>0.908</td>\n",
       "      <td>0.365</td>\n",
       "      <td>0.0</td>\n",
       "      <td>1</td>\n",
       "      <td>0.2610</td>\n",
       "      <td>-9.954</td>\n",
       "      <td>0.0942</td>\n",
       "      <td>119.977</td>\n",
       "      <td>4</td>\n",
       "      <td>0.742</td>\n",
       "    </tr>\n",
       "    <tr>\n",
       "      <th>1</th>\n",
       "      <td>0.00195</td>\n",
       "      <td>0.942</td>\n",
       "      <td>0.383</td>\n",
       "      <td>0.0</td>\n",
       "      <td>10</td>\n",
       "      <td>0.0922</td>\n",
       "      <td>-8.099</td>\n",
       "      <td>0.5650</td>\n",
       "      <td>100.021</td>\n",
       "      <td>4</td>\n",
       "      <td>0.380</td>\n",
       "    </tr>\n",
       "    <tr>\n",
       "      <th>2</th>\n",
       "      <td>0.12800</td>\n",
       "      <td>0.745</td>\n",
       "      <td>0.715</td>\n",
       "      <td>0.0</td>\n",
       "      <td>1</td>\n",
       "      <td>0.1820</td>\n",
       "      <td>-3.368</td>\n",
       "      <td>0.2450</td>\n",
       "      <td>94.513</td>\n",
       "      <td>4</td>\n",
       "      <td>0.342</td>\n",
       "    </tr>\n",
       "    <tr>\n",
       "      <th>3</th>\n",
       "      <td>0.02350</td>\n",
       "      <td>0.736</td>\n",
       "      <td>0.622</td>\n",
       "      <td>0.0</td>\n",
       "      <td>6</td>\n",
       "      <td>0.1510</td>\n",
       "      <td>-4.653</td>\n",
       "      <td>0.1330</td>\n",
       "      <td>191.971</td>\n",
       "      <td>4</td>\n",
       "      <td>0.506</td>\n",
       "    </tr>\n",
       "    <tr>\n",
       "      <th>4</th>\n",
       "      <td>0.00545</td>\n",
       "      <td>0.885</td>\n",
       "      <td>0.787</td>\n",
       "      <td>0.0</td>\n",
       "      <td>1</td>\n",
       "      <td>0.0669</td>\n",
       "      <td>-6.962</td>\n",
       "      <td>0.3210</td>\n",
       "      <td>146.066</td>\n",
       "      <td>4</td>\n",
       "      <td>0.342</td>\n",
       "    </tr>\n",
       "  </tbody>\n",
       "</table>\n",
       "</div>"
      ],
      "text/plain": [
       "   acousticness  danceability  energy  instrumentalness  key  liveness  \\\n",
       "0       0.09270         0.908   0.365               0.0    1    0.2610   \n",
       "1       0.00195         0.942   0.383               0.0   10    0.0922   \n",
       "2       0.12800         0.745   0.715               0.0    1    0.1820   \n",
       "3       0.02350         0.736   0.622               0.0    6    0.1510   \n",
       "4       0.00545         0.885   0.787               0.0    1    0.0669   \n",
       "\n",
       "   loudness  speechiness    tempo  time_signature  valence  \n",
       "0    -9.954       0.0942  119.977               4    0.742  \n",
       "1    -8.099       0.5650  100.021               4    0.380  \n",
       "2    -3.368       0.2450   94.513               4    0.342  \n",
       "3    -4.653       0.1330  191.971               4    0.506  \n",
       "4    -6.962       0.3210  146.066               4    0.342  "
      ]
     },
     "execution_count": 36,
     "metadata": {},
     "output_type": "execute_result"
    }
   ],
   "source": [
    "from sklearn.preprocessing import StandardScaler\n",
    "\n",
    "scaler = StandardScaler()\n",
    "scaled_data = scaler.fit_transform(X)\n",
    "\n",
    "scaled_df = pd.DataFrame(X, columns=X.columns)\n",
    "scaled_df.head()"
   ]
  },
  {
   "cell_type": "code",
   "execution_count": 37,
   "metadata": {},
   "outputs": [],
   "source": [
    "from sklearn.model_selection import train_test_split\n",
    "\n",
    "X_train, X_test, y_train, y_test = train_test_split(scaled_df, y, test_size=0.2, random_state=3)"
   ]
  },
  {
   "cell_type": "code",
   "execution_count": 38,
   "metadata": {},
   "outputs": [],
   "source": [
    "from sklearn.neighbors import KNeighborsClassifier\n"
   ]
  },
  {
   "cell_type": "markdown",
   "metadata": {},
   "source": [
    "##### Attempting multiple K values for K Nearest Neighbors"
   ]
  },
  {
   "cell_type": "code",
   "execution_count": 39,
   "metadata": {},
   "outputs": [],
   "source": [
    "from sklearn.metrics import precision_score, recall_score, accuracy_score, f1_score\n",
    "def find_best_k(X_train, y_train, X_test, y_test, min_k=1, max_k=25):\n",
    "    best_k = 0\n",
    "    best_score = 0.0\n",
    "    for k in range(min_k, max_k+1, 2):\n",
    "        knn = KNeighborsClassifier(n_neighbors=k)\n",
    "        knn.fit(X_train, y_train)\n",
    "        preds = knn.predict(X_test)\n",
    "        f1 = f1_score(y_test, preds, average='micro')\n",
    "        if f1 > best_score:\n",
    "            best_k = k\n",
    "            best_score = f1\n",
    "    \n",
    "    print(\"Best Value for k: {}\".format(best_k))\n",
    "    print(\"F1-Score: {}\".format(best_score))"
   ]
  },
  {
   "cell_type": "code",
   "execution_count": 40,
   "metadata": {
    "scrolled": true
   },
   "outputs": [
    {
     "name": "stdout",
     "output_type": "stream",
     "text": [
      "Best Value for k: 9\n",
      "F1-Score: 0.9285714285714286\n"
     ]
    }
   ],
   "source": [
    "find_best_k(X_train, y_train, X_test, y_test, min_k=1, max_k=25)"
   ]
  },
  {
   "cell_type": "markdown",
   "metadata": {},
   "source": [
    "##### A K value of 9 was selected as optimal value for model"
   ]
  },
  {
   "cell_type": "code",
   "execution_count": 41,
   "metadata": {},
   "outputs": [],
   "source": [
    "knn = KNeighborsClassifier(n_neighbors=9)\n",
    "knn.fit(X_train, y_train)\n",
    "preds = knn.predict(X_test)"
   ]
  },
  {
   "cell_type": "code",
   "execution_count": 42,
   "metadata": {},
   "outputs": [],
   "source": [
    "from sklearn.metrics import classification_report"
   ]
  },
  {
   "cell_type": "markdown",
   "metadata": {},
   "source": [
    "##### Classification Scores on Test Set"
   ]
  },
  {
   "cell_type": "code",
   "execution_count": 43,
   "metadata": {},
   "outputs": [
    {
     "name": "stdout",
     "output_type": "stream",
     "text": [
      "Precision Score: 0.9285714285714286\n",
      "Recall Score: 0.9285714285714286\n",
      "Accuracy Score: 0.9285714285714286\n",
      "F1 Score: 0.9285714285714286\n"
     ]
    }
   ],
   "source": [
    "def print_metrics(labels, preds):\n",
    "    print(\"Precision Score: {}\".format(precision_score(labels, preds, average='micro')))\n",
    "    print(\"Recall Score: {}\".format(recall_score(labels, preds, average='micro')))\n",
    "    print(\"Accuracy Score: {}\".format(accuracy_score(labels, preds)))\n",
    "    print(\"F1 Score: {}\".format(f1_score(labels, preds, average='micro')))\n",
    "    \n",
    "print_metrics(y_test, preds)"
   ]
  },
  {
   "cell_type": "code",
   "execution_count": null,
   "metadata": {},
   "outputs": [],
   "source": []
  }
 ],
 "metadata": {
  "kernelspec": {
   "display_name": "Python 3",
   "language": "python",
   "name": "python3"
  },
  "language_info": {
   "codemirror_mode": {
    "name": "ipython",
    "version": 3
   },
   "file_extension": ".py",
   "mimetype": "text/x-python",
   "name": "python",
   "nbconvert_exporter": "python",
   "pygments_lexer": "ipython3",
   "version": "3.6.5"
  }
 },
 "nbformat": 4,
 "nbformat_minor": 2
}
